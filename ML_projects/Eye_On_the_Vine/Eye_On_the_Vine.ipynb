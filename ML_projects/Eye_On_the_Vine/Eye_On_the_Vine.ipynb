{
 "cells": [
  {
   "cell_type": "markdown",
   "id": "572638b8-594b-4431-bd0b-02199d12d96a",
   "metadata": {},
   "source": [
    "# Eye on the Vine Project\n",
    "\n",
    "In this project, I will be performing a fungi segmentation task, focusing on identifying and delineating fungal structures in images using Convolutional Neural Networks (CNNs)."
   ]
  },
  {
   "cell_type": "code",
   "execution_count": 5,
   "id": "b716f7ab-e136-4870-b0c4-1db4291a714a",
   "metadata": {},
   "outputs": [],
   "source": [
    "import tensorflow as tf\n",
    "import numpy as np\n",
    "import pandas as pd"
   ]
  }
 ],
 "metadata": {
  "kernelspec": {
   "display_name": "Python (TensorFlow)",
   "language": "python",
   "name": "tf_env"
  },
  "language_info": {
   "codemirror_mode": {
    "name": "ipython",
    "version": 3
   },
   "file_extension": ".py",
   "mimetype": "text/x-python",
   "name": "python",
   "nbconvert_exporter": "python",
   "pygments_lexer": "ipython3",
   "version": "3.11.8"
  }
 },
 "nbformat": 4,
 "nbformat_minor": 5
}
